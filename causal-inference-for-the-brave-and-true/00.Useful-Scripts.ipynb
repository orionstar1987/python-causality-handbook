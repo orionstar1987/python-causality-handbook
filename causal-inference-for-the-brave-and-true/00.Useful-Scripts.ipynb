{
 "cells": [
  {
   "cell_type": "code",
   "execution_count": 4,
   "metadata": {},
   "outputs": [],
   "source": [
    "import warnings\n",
    "warnings.filterwarnings('ignore')\n",
    "\n",
    "import time\n",
    "import pandas as pd\n",
    "import numpy as np\n",
    "from matplotlib import style\n",
    "from matplotlib import pyplot as plt\n",
    "import seaborn as sns\n",
    "\n",
    "from sklearn.linear_model import LogisticRegression, LinearRegression\n",
    "\n",
    "%matplotlib inline\n",
    "\n",
    "style.use(\"fivethirtyeight\")\n",
    "pd.set_option(\"display.max_columns\", 6)"
   ]
  },
  {
   "cell_type": "markdown",
   "metadata": {},
   "source": [
    "## Simulation"
   ]
  },
  {
   "cell_type": "markdown",
   "metadata": {},
   "source": [
    "__Jablib__: provides a simple helper class to write parallel for loops using multiprocessing. The core idea is to write the code to be executed as a generator expression, and convert it to parallel computing.\n",
    "- n_jobs=-1 is a common usage pattern that instructs Parallel to use all available CPU cores on the system."
   ]
  },
  {
   "cell_type": "code",
   "execution_count": 2,
   "metadata": {},
   "outputs": [
    {
     "data": {
      "text/plain": [
       "[0.0, 1.0, 2.0, 3.0, 4.0, 5.0, 6.0, 7.0, 8.0, 9.0]"
      ]
     },
     "execution_count": 2,
     "metadata": {},
     "output_type": "execute_result"
    }
   ],
   "source": [
    "from math import sqrt\n",
    "[sqrt(i ** 2) for i in range(10)]"
   ]
  },
  {
   "cell_type": "code",
   "execution_count": 3,
   "metadata": {},
   "outputs": [
    {
     "data": {
      "text/plain": [
       "[0.0, 1.0, 2.0, 3.0, 4.0, 5.0, 6.0, 7.0, 8.0, 9.0]"
      ]
     },
     "execution_count": 3,
     "metadata": {},
     "output_type": "execute_result"
    }
   ],
   "source": [
    "from joblib import Parallel, delayed\n",
    "Parallel(n_jobs=2)(delayed(sqrt)(i ** 2) for i in range(10))"
   ]
  },
  {
   "cell_type": "code",
   "execution_count": 6,
   "metadata": {},
   "outputs": [
    {
     "name": "stdout",
     "output_type": "stream",
     "text": [
      "Results without delayed: [1, 4, 9, 16, 25]\n",
      "Results with delayed:    [1, 4, 9, 16, 25]\n",
      "Time without delayed:    5.029967308044434\n",
      "Time with delayed:       1.0595107078552246\n"
     ]
    }
   ],
   "source": [
    "def square(x):\n",
    "    time.sleep(1)  # Simulating a time-consuming task\n",
    "    return x ** 2\n",
    " \n",
    "# List of numbers\n",
    "numbers = [1, 2, 3, 4, 5]\n",
    " \n",
    "# Without using delayed\n",
    "start = time.time()\n",
    "results_no_delayed =[square(number) for number in numbers]\n",
    "end = time.time()\n",
    "time_no_delayed = end - start\n",
    " \n",
    "# Using delayed\n",
    "start = time.time()\n",
    "delayed_calls = [delayed(square)(number) for number in numbers]\n",
    "results_delayed = Parallel(n_jobs=-1)(delayed_calls)\n",
    "end = time.time()\n",
    "time_delayed = end - start\n",
    " \n",
    "print(\"Results without delayed:\", results_no_delayed)\n",
    "print(\"Results with delayed:   \", results_delayed)\n",
    "print(\"Time without delayed:   \", time_no_delayed)\n",
    "print(\"Time with delayed:      \", time_delayed)"
   ]
  },
  {
   "cell_type": "code",
   "execution_count": null,
   "metadata": {},
   "outputs": [],
   "source": [
    "np.random.seed(88)\n",
    "# run 1000 bootstrap samples\n",
    "bootstrap_sample = 1000\n",
    "ates = Parallel(n_jobs=4)(delayed(doubly_robust)(data_with_categ.sample(frac=1, replace=True), X, T, Y)\n",
    "                          for _ in range(bootstrap_sample))\n",
    "ates = np.array(ates)"
   ]
  }
 ],
 "metadata": {
  "kernelspec": {
   "display_name": "Python 3",
   "language": "python",
   "name": "python3"
  },
  "language_info": {
   "codemirror_mode": {
    "name": "ipython",
    "version": 3
   },
   "file_extension": ".py",
   "mimetype": "text/x-python",
   "name": "python",
   "nbconvert_exporter": "python",
   "pygments_lexer": "ipython3",
   "version": "3.9.13"
  },
  "orig_nbformat": 4
 },
 "nbformat": 4,
 "nbformat_minor": 2
}
